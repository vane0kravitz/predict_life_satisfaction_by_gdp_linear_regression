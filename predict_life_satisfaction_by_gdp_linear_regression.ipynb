{
 "cells": [
  {
   "cell_type": "code",
   "execution_count": 12,
   "metadata": {},
   "outputs": [
    {
     "name": "stdout",
     "output_type": "stream",
     "text": [
      "                 Life satisfaction  GDP per capita\n",
      "South Africa                   4.8     6120.506800\n",
      "Mexico                         6.6     9281.101483\n",
      "Brazil                         6.6     9880.946543\n",
      "Turkey                         5.5    10499.745573\n",
      "Poland                         6.0    13861.051558\n",
      "Hungary                        5.3    14278.874498\n",
      "Chile                          6.7    15037.350109\n",
      "Latvia                         5.9    15684.558519\n",
      "Slovak Republic                6.1    17579.259399\n",
      "Greece                         5.2    18883.460067\n",
      "Estonia                        5.6    20200.375592\n",
      "Czech Republic                 6.6    20379.896040\n",
      "Portugal                       5.2    21291.430881\n",
      "Slovenia                       5.8    23449.574517\n",
      "Spain                          6.4    28208.261053\n",
      "Italy                          5.9    32155.205866\n",
      "Japan                          5.9    38331.979398\n",
      "France                         6.4    38679.127148\n",
      "United Kingdom                 6.7    39932.060292\n",
      "Israel                         7.2    40543.584167\n",
      "New Zealand                    7.3    42260.125177\n",
      "Belgium                        6.9    43507.238203\n",
      "Germany                        7.0    44681.082581\n",
      "Canada                         7.3    45069.927254\n",
      "Finland                        7.5    45804.654208\n",
      "Austria                        7.0    47380.829637\n",
      "Netherlands                    7.4    48482.766210\n",
      "Sweden                         7.3    53253.476641\n",
      "Australia                      7.3    54093.602191\n",
      "Denmark                        7.5    57218.851962\n",
      "United States                  6.9    59927.929834\n",
      "Ireland                        7.0    68941.806653\n",
      "Iceland                        7.5    71314.774196\n",
      "Norway                         7.5    75704.248698\n",
      "Switzerland                    7.5    80333.444945\n",
      "Luxembourg                     6.9   104498.738671\n"
     ]
    },
    {
     "data": {
      "image/png": "[encoded data removed]",
      "text/plain": [
       "<Figure size 432x288 with 1 Axes>"
      ]
     },
     "metadata": {
      "needs_background": "light"
     },
     "output_type": "display_data"
    },
    {
     "name": "stdout",
     "output_type": "stream",
     "text": [
      "[[5.71822436]]\n"
     ]
    }
   ],
   "source": [
    "import matplotlib\n",
    "import matplotlib.pyplot as plt \n",
    "import numpy as np\n",
    "import pandas as pd\n",
    "import sklearn\n",
    "from sklearn.linear_model import LinearRegression\n",
    "\n",
    "# load data\n",
    "oecd_bli = pd.read_csv(\"BLI2017_23082019102152615.csv\", \n",
    "                       thousands=',', \n",
    "                       index_col='Country')\n",
    "gdp_per_capita = pd.read_csv(\"API_NY.GDP.PCAP.CD_DS2_en_csv_v2_103696.csv\", \n",
    "                             thousands=',', \n",
    "                             skiprows=4, \n",
    "                             index_col='Country Name')\n",
    "\n",
    "# prepare data\n",
    "gdp_per_capita.rename(columns={\"2017\": \"gdp\", \"Country Name\": \"Country\"}, inplace=True)\n",
    "\n",
    "filtered_bli = oecd_bli[oecd_bli['Indicator']==\"Life satisfaction\"]\n",
    "filtered_bli = filtered_bli[filtered_bli['INEQUALITY']==\"TOT\"]\n",
    "\n",
    "gdp_per_capita = pd.DataFrame({'GDP per capita': gdp_per_capita.gdp})\n",
    "filtered_bli = pd.DataFrame({'Life satisfaction': filtered_bli.Value})\n",
    "\n",
    "country_stats = pd.merge(left=filtered_bli, right=gdp_per_capita, left_index=True, right_index=True)\n",
    "country_stats.sort_values(by=\"GDP per capita\", inplace=True)\n",
    "\n",
    "print(country_stats)\n",
    "\n",
    "X = np.c_[country_stats[\"GDP per capita\"]]\n",
    "y = np.c_[country_stats[\"Life satisfaction\"]]\n",
    "\n",
    "# visualize\n",
    "country_stats.plot(kind='scatter', x = \"GDP per capita\", y = 'Life satisfaction')\n",
    "plt.show()\n",
    "\n",
    "# chose linear model\n",
    "model = sklearn.linear_model.LinearRegression() # teach model\n",
    "model.fit(X, y)\n",
    "\n",
    "# fit predict for ukraine\n",
    "X_new = [[2994]] # gdp for person ukraine \n",
    "print(model.predict(X_new))"
   ]
  },
  {
   "cell_type": "code",
   "execution_count": null,
   "metadata": {},
   "outputs": [],
   "source": []
  }
 ],
 "metadata": {
  "kernelspec": {
   "display_name": "Python 3",
   "language": "python",
   "name": "python3"
  },
  "language_info": {
   "codemirror_mode": {
    "name": "ipython",
    "version": 3
   },
   "file_extension": ".py",
   "mimetype": "text/x-python",
   "name": "python",
   "nbconvert_exporter": "python",
   "pygments_lexer": "ipython3",
   "version": "3.7.3"
  }
 },
 "nbformat": 4,
 "nbformat_minor": 2
}
